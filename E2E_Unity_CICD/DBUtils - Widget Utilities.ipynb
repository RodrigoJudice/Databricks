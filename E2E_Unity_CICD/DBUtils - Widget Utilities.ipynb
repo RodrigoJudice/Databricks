{
 "cells": [
  {
   "cell_type": "markdown",
   "metadata": {
    "application/vnd.databricks.v1+cell": {
     "cellMetadata": {},
     "inputWidgets": {},
     "nuid": "a683273b-74f6-4d24-95fd-ec40b514d1d7",
     "showTitle": false,
     "tableResultSettingsMap": {},
     "title": ""
    }
   },
   "source": [
    "# DBUtils - Widget Utilities"
   ]
  },
  {
   "cell_type": "code",
   "execution_count": 0,
   "metadata": {
    "application/vnd.databricks.v1+cell": {
     "cellMetadata": {
      "byteLimit": 2048000,
      "rowLimit": 10000
     },
     "inputWidgets": {},
     "nuid": "77944ce3-f8f1-45ae-8b59-fe7b23a40542",
     "showTitle": false,
     "tableResultSettingsMap": {},
     "title": ""
    }
   },
   "outputs": [],
   "source": [
    "dbutils.widgets.help()"
   ]
  },
  {
   "cell_type": "markdown",
   "metadata": {
    "application/vnd.databricks.v1+cell": {
     "cellMetadata": {},
     "inputWidgets": {},
     "nuid": "84442245-38e0-4951-b377-c85b3cfe7481",
     "showTitle": false,
     "tableResultSettingsMap": {},
     "title": ""
    }
   },
   "source": [
    "## Widget Utilities"
   ]
  },
  {
   "cell_type": "markdown",
   "metadata": {
    "application/vnd.databricks.v1+cell": {
     "cellMetadata": {},
     "inputWidgets": {},
     "nuid": "e4648977-508b-4042-9747-f0ee4cc8e622",
     "showTitle": false,
     "tableResultSettingsMap": {},
     "title": ""
    }
   },
   "source": [
    "### Combo Box"
   ]
  },
  {
   "cell_type": "code",
   "execution_count": 0,
   "metadata": {
    "application/vnd.databricks.v1+cell": {
     "cellMetadata": {
      "byteLimit": 2048000,
      "rowLimit": 10000
     },
     "inputWidgets": {},
     "nuid": "dd382c97-158c-4609-9a19-7e39887a724b",
     "showTitle": false,
     "tableResultSettingsMap": {},
     "title": ""
    }
   },
   "outputs": [],
   "source": [
    "dbutils.widgets.combobox(name= \"combobox_name\", defaultValue=\"Employee\", choices=[\"Employee\", \"Developer\", \"Tester\", \"Manager\"], label=\"Combobox Label\")"
   ]
  },
  {
   "cell_type": "code",
   "execution_count": 0,
   "metadata": {
    "application/vnd.databricks.v1+cell": {
     "cellMetadata": {
      "byteLimit": 2048000,
      "rowLimit": 10000
     },
     "inputWidgets": {},
     "nuid": "2f60f418-2342-4063-ae2b-c1db33c79a87",
     "showTitle": false,
     "tableResultSettingsMap": {},
     "title": ""
    }
   },
   "outputs": [],
   "source": [
    "dbutils.widgets.get('combobox_name')"
   ]
  },
  {
   "cell_type": "markdown",
   "metadata": {
    "application/vnd.databricks.v1+cell": {
     "cellMetadata": {},
     "inputWidgets": {},
     "nuid": "53326cff-1575-4472-9039-44e4021f5b9a",
     "showTitle": false,
     "tableResultSettingsMap": {},
     "title": ""
    }
   },
   "source": [
    "### Drop down"
   ]
  },
  {
   "cell_type": "code",
   "execution_count": 0,
   "metadata": {
    "application/vnd.databricks.v1+cell": {
     "cellMetadata": {
      "byteLimit": 2048000,
      "rowLimit": 10000
     },
     "inputWidgets": {},
     "nuid": "6ea71453-4027-4f5f-8fad-0c498f7c8cb4",
     "showTitle": false,
     "tableResultSettingsMap": {},
     "title": ""
    }
   },
   "outputs": [],
   "source": [
    "dbutils.widgets.dropdown(name= \"dropdown_name\", defaultValue=\"Developer\", choices=[\"Employee\", \"Developer\", \"Tester\", \"Manager\"], label=\"Dropdown Label\")"
   ]
  },
  {
   "cell_type": "code",
   "execution_count": 0,
   "metadata": {
    "application/vnd.databricks.v1+cell": {
     "cellMetadata": {
      "byteLimit": 2048000,
      "rowLimit": 10000
     },
     "inputWidgets": {},
     "nuid": "d40a0852-c767-4990-a45a-0272becedb40",
     "showTitle": false,
     "tableResultSettingsMap": {},
     "title": ""
    }
   },
   "outputs": [],
   "source": [
    "dbutils.widgets.get('dropdown_name')"
   ]
  },
  {
   "cell_type": "markdown",
   "metadata": {
    "application/vnd.databricks.v1+cell": {
     "cellMetadata": {},
     "inputWidgets": {},
     "nuid": "5d196f13-8d64-4226-8154-5181435ec34d",
     "showTitle": false,
     "tableResultSettingsMap": {},
     "title": ""
    }
   },
   "source": [
    "### Multiselect"
   ]
  },
  {
   "cell_type": "code",
   "execution_count": 0,
   "metadata": {
    "application/vnd.databricks.v1+cell": {
     "cellMetadata": {
      "byteLimit": 2048000,
      "rowLimit": 10000
     },
     "inputWidgets": {},
     "nuid": "dd5bc3b5-1150-40f5-9e33-88b93b9d4e23",
     "showTitle": false,
     "tableResultSettingsMap": {},
     "title": ""
    }
   },
   "outputs": [],
   "source": [
    "dbutils.widgets.multiselect(name= \"multiselect_name\", defaultValue=\"Manager\", choices=[\"Employee\", \"Developer\", \"Tester\", \"Manager\"], label=\"Multiselect Label\")"
   ]
  },
  {
   "cell_type": "code",
   "execution_count": 0,
   "metadata": {
    "application/vnd.databricks.v1+cell": {
     "cellMetadata": {
      "byteLimit": 2048000,
      "rowLimit": 10000
     },
     "inputWidgets": {},
     "nuid": "e22427bd-e36d-4ed7-b43b-b23aa63fe361",
     "showTitle": false,
     "tableResultSettingsMap": {},
     "title": ""
    }
   },
   "outputs": [],
   "source": [
    "dbutils.widgets.get('multiselect_name')"
   ]
  },
  {
   "cell_type": "markdown",
   "metadata": {
    "application/vnd.databricks.v1+cell": {
     "cellMetadata": {},
     "inputWidgets": {},
     "nuid": "61222ede-c045-4075-a6ba-8b707869cbe6",
     "showTitle": false,
     "tableResultSettingsMap": {},
     "title": ""
    }
   },
   "source": [
    "### Text"
   ]
  },
  {
   "cell_type": "code",
   "execution_count": 0,
   "metadata": {
    "application/vnd.databricks.v1+cell": {
     "cellMetadata": {
      "byteLimit": 2048000,
      "rowLimit": 10000
     },
     "inputWidgets": {},
     "nuid": "7bc310f3-f5ed-4680-ad32-20d33214b501",
     "showTitle": false,
     "tableResultSettingsMap": {},
     "title": ""
    }
   },
   "outputs": [],
   "source": [
    "dbutils.widgets.text(name= \"text_name\", defaultValue=\"\",label=\"Text Label\")"
   ]
  },
  {
   "cell_type": "code",
   "execution_count": 0,
   "metadata": {
    "application/vnd.databricks.v1+cell": {
     "cellMetadata": {
      "byteLimit": 2048000,
      "rowLimit": 10000
     },
     "inputWidgets": {},
     "nuid": "44597426-3696-4356-99e6-fb9631ee1d07",
     "showTitle": false,
     "tableResultSettingsMap": {},
     "title": ""
    }
   },
   "outputs": [],
   "source": [
    "result = dbutils.widgets.get('text_name')\n",
    "\n",
    "print(f\"Selected value: {result}\")\n"
   ]
  },
  {
   "cell_type": "code",
   "execution_count": 0,
   "metadata": {
    "application/vnd.databricks.v1+cell": {
     "cellMetadata": {},
     "inputWidgets": {},
     "nuid": "3e380371-c564-4e75-8791-8346033bce6e",
     "showTitle": false,
     "tableResultSettingsMap": {},
     "title": ""
    }
   },
   "outputs": [],
   "source": []
  }
 ],
 "metadata": {
  "application/vnd.databricks.v1+notebook": {
   "computePreferences": null,
   "dashboards": [],
   "environmentMetadata": {
    "base_environment": "",
    "environment_version": "2"
   },
   "inputWidgetPreferences": null,
   "language": "python",
   "notebookMetadata": {
    "pythonIndentUnit": 4
   },
   "notebookName": "DBUtils - Widget Utilities",
   "widgets": {
    "combobox_name": {
     "currentValue": "Employee",
     "nuid": "94c4c8bb-2a6b-4095-8b0e-8b1ba175adce",
     "typedWidgetInfo": {
      "autoCreated": false,
      "defaultValue": "Employee",
      "label": "Combobox Label",
      "name": "combobox_name",
      "options": {
       "widgetDisplayType": "Dropdown",
       "choices": [
        "Employee",
        "Developer",
        "Tester",
        "Manager"
       ],
       "fixedDomain": false,
       "multiselect": false
      },
      "parameterDataType": "String"
     },
     "widgetInfo": {
      "widgetType": "combobox",
      "defaultValue": "Employee",
      "label": "Combobox Label",
      "name": "combobox_name",
      "options": {
       "widgetType": "dropdown",
       "autoCreated": null,
       "choices": [
        "Employee",
        "Developer",
        "Tester",
        "Manager"
       ]
      }
     }
    },
    "dropdown_name": {
     "currentValue": "Developer",
     "nuid": "cd588e11-1ad9-4aa2-9d88-0e38c242dfc6",
     "typedWidgetInfo": {
      "autoCreated": false,
      "defaultValue": "Developer",
      "label": "Dropdown Label",
      "name": "dropdown_name",
      "options": {
       "widgetDisplayType": "Dropdown",
       "choices": [
        "Employee",
        "Developer",
        "Tester",
        "Manager"
       ],
       "fixedDomain": true,
       "multiselect": false
      },
      "parameterDataType": "String"
     },
     "widgetInfo": {
      "widgetType": "dropdown",
      "defaultValue": "Developer",
      "label": "Dropdown Label",
      "name": "dropdown_name",
      "options": {
       "widgetType": "dropdown",
       "autoCreated": null,
       "choices": [
        "Employee",
        "Developer",
        "Tester",
        "Manager"
       ]
      }
     }
    },
    "multiselect_name": {
     "currentValue": "Manager,Developer",
     "nuid": "f67af0f3-ac38-4ad6-a554-406627a66ac9",
     "typedWidgetInfo": {
      "autoCreated": false,
      "defaultValue": "Manager",
      "label": "Mltiselect Label",
      "name": "multiselect_name",
      "options": {
       "widgetDisplayType": "Dropdown",
       "choices": [
        "Employee",
        "Developer",
        "Tester",
        "Manager"
       ],
       "fixedDomain": true,
       "multiselect": true
      },
      "parameterDataType": "String"
     },
     "widgetInfo": {
      "widgetType": "multiselect",
      "defaultValue": "Manager",
      "label": "Mltiselect Label",
      "name": "multiselect_name",
      "options": {
       "widgetType": "dropdown",
       "autoCreated": false,
       "choices": [
        "Employee",
        "Developer",
        "Tester",
        "Manager"
       ]
      }
     }
    },
    "text_name": {
     "currentValue": "1976",
     "nuid": "a8ca1d0a-12d8-464a-83c3-c3381dd1d6fa",
     "typedWidgetInfo": {
      "autoCreated": false,
      "defaultValue": "",
      "label": "Text Label",
      "name": "text_name",
      "options": {
       "widgetDisplayType": "Text",
       "validationRegex": null
      },
      "parameterDataType": "String"
     },
     "widgetInfo": {
      "widgetType": "text",
      "defaultValue": "",
      "label": "Text Label",
      "name": "text_name",
      "options": {
       "widgetType": "text",
       "autoCreated": false,
       "validationRegex": null
      }
     }
    }
   }
  },
  "language_info": {
   "name": "python"
  }
 },
 "nbformat": 4,
 "nbformat_minor": 0
}
